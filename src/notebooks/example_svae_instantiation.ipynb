{
 "cells": [
  {
   "cell_type": "markdown",
   "metadata": {},
   "source": [
    "## Imports and setup."
   ]
  },
  {
   "cell_type": "code",
   "execution_count": 1,
   "metadata": {},
   "outputs": [],
   "source": [
    "# Enable autoreloading, when local modules are modified.\n",
    "%load_ext autoreload\n",
    "%autoreload 2"
   ]
  },
  {
   "cell_type": "code",
   "execution_count": 2,
   "metadata": {},
   "outputs": [],
   "source": [
    "import os\n",
    "import sys\n",
    "\n",
    "# Allow absolute path imports.\n",
    "project_root = os.path.abspath(os.path.join('../..'))\n",
    "if project_root not in sys.path:\n",
    "  sys.path.append(project_root)"
   ]
  },
  {
   "cell_type": "code",
   "execution_count": 3,
   "metadata": {},
   "outputs": [],
   "source": [
    "import torch\n",
    "import numpy as np\n",
    "from src.models.svae import SpatialVAE"
   ]
  },
  {
   "cell_type": "code",
   "execution_count": 4,
   "metadata": {},
   "outputs": [
    {
     "output_type": "stream",
     "name": "stdout",
     "text": "Torch device: cpu\n"
    }
   ],
   "source": [
    "torch.set_printoptions(precision=3, sci_mode=False)\n",
    "device = torch.device(\"cuda:0\" if torch.cuda.is_available() else \"cpu\")\n",
    "print(f'Torch device: {device}')"
   ]
  },
  {
   "cell_type": "markdown",
   "metadata": {},
   "source": [
    "## Make dummy data."
   ]
  },
  {
   "cell_type": "code",
   "execution_count": 5,
   "metadata": {},
   "outputs": [],
   "source": [
    "batch_size = 8\n",
    "n_channels = 1  # e.g RGB (set to 1 for MNIST).\n",
    "width = 28  # Image width.\n",
    "height = 28  # Image height."
   ]
  },
  {
   "cell_type": "code",
   "execution_count": 6,
   "metadata": {},
   "outputs": [],
   "source": [
    "# A dummy input.\n",
    "x = torch.rand(batch_size, n_channels, width, height).to(device)"
   ]
  },
  {
   "cell_type": "markdown",
   "metadata": {},
   "source": [
    "## Instantiate model and call forward()."
   ]
  },
  {
   "cell_type": "code",
   "execution_count": 7,
   "metadata": {},
   "outputs": [],
   "source": [
    "svae = SpatialVAE(\n",
    "    width=width,\n",
    "    height=height,\n",
    "    n_channels=n_channels,\n",
    "    n_hidden_units=500,\n",
    "    n_layers=2,\n",
    "    n_unconstrained=2).to(device)"
   ]
  },
  {
   "cell_type": "code",
   "execution_count": 8,
   "metadata": {},
   "outputs": [
    {
     "output_type": "stream",
     "name": "stdout",
     "text": "torch.Size([8, 1, 28, 28])\ntorch.Size([8, 5])\ntorch.Size([8, 5])\n"
    }
   ],
   "source": [
    "# losgstd and mu shape contain the batch size, and parameters\n",
    "# parameter order: [rotation, 2 x translation, unconstrained...]\n",
    "reconstruction, mu, logstd = svae.forward(x)\n",
    "print(reconstruction.shape)\n",
    "print(mu.shape)\n",
    "print(logstd.shape)"
   ]
  },
  {
   "cell_type": "code",
   "execution_count": 16,
   "metadata": {},
   "outputs": [],
   "source": [
    "# Loss function\n",
    "# last parameter is the stddev of prior of rotation distribution\n",
    "# A good value is a larger value, can be set to pi\n",
    "pi = torch.tensor(np.pi).float().unsqueeze(0).to(device)\n",
    "result = svae.loss(x, reconstruction, mu, logstd, pi)\n",
    "print(result)"
   ]
  },
  {
   "cell_type": "code",
   "execution_count": 17,
   "metadata": {},
   "outputs": [
    {
     "output_type": "stream",
     "name": "stdout",
     "text": "torch.Size([1, 2])\ntorch.Size([784, 2])\n"
    }
   ],
   "source": [
    "z = torch.Tensor([[1, 2]])\n",
    "print(z.shape)\n",
    "height = 28\n",
    "width = 28\n",
    "z = z.repeat(1,width*height).view(-1, z.size(1))\n",
    "print(z.shape)"
   ]
  },
  {
   "cell_type": "code",
   "execution_count": null,
   "metadata": {},
   "outputs": [],
   "source": []
  }
 ],
 "metadata": {
  "kernelspec": {
   "display_name": "Python 3.7.7 64-bit ('mlTorch': conda)",
   "language": "python",
   "name": "python37764bitmltorchconda02df438cd771451394500a39cf21776d"
  },
  "language_info": {
   "codemirror_mode": {
    "name": "ipython",
    "version": 3
   },
   "file_extension": ".py",
   "mimetype": "text/x-python",
   "name": "python",
   "nbconvert_exporter": "python",
   "pygments_lexer": "ipython3",
   "version": "3.7.7-final"
  }
 },
 "nbformat": 4,
 "nbformat_minor": 4
}