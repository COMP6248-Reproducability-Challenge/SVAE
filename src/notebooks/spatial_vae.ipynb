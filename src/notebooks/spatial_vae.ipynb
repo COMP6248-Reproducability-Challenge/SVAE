{
 "cells": [
  {
   "cell_type": "markdown",
   "metadata": {},
   "source": [
    "# Spatial VAE Test"
   ]
  },
  {
   "cell_type": "markdown",
   "metadata": {},
   "source": [
    "## Setting up enviroment"
   ]
  },
  {
   "cell_type": "code",
   "execution_count": 1,
   "metadata": {},
   "outputs": [
    {
     "name": "stdout",
     "output_type": "stream",
     "text": [
      "C:\\Users\\hp\\Desktop\\University of Southampton\\MSc AI\\Semester 2\\Deep Learning\\Challenge\\spatial_vae\\reproducibility\n"
     ]
    }
   ],
   "source": [
    "cd ../.."
   ]
  },
  {
   "cell_type": "code",
   "execution_count": 2,
   "metadata": {},
   "outputs": [],
   "source": [
    "import os\n",
    "import sys\n",
    "from argparse import Namespace\n",
    "\n",
    "from ipywidgets import HBox\n",
    "from matplotlib import pyplot as plt\n",
    "from src.models.pl_model import Model\n",
    "from tqdm.notebook import tqdm\n",
    "\n",
    "import pytorch_lightning as pl\n",
    "import torch\n",
    "import torchvision\n",
    "from pytorch_lightning.callbacks import ModelCheckpoint\n",
    "from pytorch_lightning.logging import TensorBoardLogger"
   ]
  },
  {
   "cell_type": "code",
   "execution_count": 3,
   "metadata": {},
   "outputs": [
    {
     "data": {
      "text/plain": [
       "Reusing TensorBoard on port 6006 (pid 19356), started 0:01:34 ago. (Use '!kill 19356' to kill it.)"
      ]
     },
     "metadata": {},
     "output_type": "display_data"
    },
    {
     "data": {
      "text/html": [
       "\n",
       "        <iframe\n",
       "            width=\"100%\"\n",
       "            height=\"800\"\n",
       "            src=\"http://localhost:6006\"\n",
       "            frameborder=\"0\"\n",
       "            allowfullscreen\n",
       "        ></iframe>\n",
       "        "
      ],
      "text/plain": [
       "<IPython.lib.display.IFrame at 0x15b773881d0>"
      ]
     },
     "metadata": {},
     "output_type": "display_data"
    }
   ],
   "source": [
    "%load_ext tensorboard\n",
    "%tensorboard --logdir src/models/log/tb_logs --host localhost"
   ]
  },
  {
   "cell_type": "markdown",
   "metadata": {},
   "source": [
    "## Training"
   ]
  },
  {
   "cell_type": "code",
   "execution_count": 4,
   "metadata": {},
   "outputs": [
    {
     "name": "stderr",
     "output_type": "stream",
     "text": [
      "C:\\Users\\hp\\Anaconda3\\envs\\pysyft\\lib\\site-packages\\pytorch_lightning\\loggers\\tensorboard.py:106: UserWarning: Hyperparameter logging is not available for Torch version 1.1.0. Skipping log_hyperparams. Upgrade to Torch 1.3.0 or above to enable hyperparameter logging.\n",
      "  f\"Hyperparameter logging is not available for Torch version {torch.__version__}.\"\n",
      "INFO:lightning:\n",
      "  | Name       | Type       | Params\n",
      "--------------------------------------\n",
      "0 | activation | Tanh       | 0     \n",
      "1 | encoder    | Sequential | 2 K   \n",
      "2 | encoder.0  | Linear     | 2 K   \n",
      "3 | encoder.2  | Linear     | 40    \n",
      "4 | decoder    | Sequential | 19    \n",
      "5 | decoder.0  | Linear     | 15    \n",
      "6 | decoder.2  | Linear     | 4     \n",
      "7 | decoder.3  | Sigmoid    | 0     \n"
     ]
    },
    {
     "data": {
      "application/vnd.jupyter.widget-view+json": {
       "model_id": "",
       "version_major": 2,
       "version_minor": 0
      },
      "text/plain": [
       "HBox(children=(FloatProgress(value=0.0, description='Validation sanity check', layout=Layout(flex='2'), max=5.…"
      ]
     },
     "metadata": {},
     "output_type": "display_data"
    },
    {
     "data": {
      "application/vnd.jupyter.widget-view+json": {
       "model_id": "0c3c2905a43c49dea5ec8916f21ab27e",
       "version_major": 2,
       "version_minor": 0
      },
      "text/plain": [
       "HBox(children=(FloatProgress(value=1.0, bar_style='info', layout=Layout(flex='2'), max=1.0), HTML(value='')), …"
      ]
     },
     "metadata": {},
     "output_type": "display_data"
    },
    {
     "name": "stderr",
     "output_type": "stream",
     "text": [
      "C:\\Users\\hp\\Anaconda3\\envs\\pysyft\\lib\\site-packages\\pytorch_lightning\\utilities\\warnings.py:18: RuntimeWarning: Displayed epoch numbers in the progress bar start from \"1\" until v0.6.x, but will start from \"0\" in v0.8.0.\n",
      "  warnings.warn(*args, **kwargs)\n"
     ]
    },
    {
     "data": {
      "application/vnd.jupyter.widget-view+json": {
       "model_id": "",
       "version_major": 2,
       "version_minor": 0
      },
      "text/plain": [
       "HBox(children=(FloatProgress(value=0.0, description='Validating', layout=Layout(flex='2'), style=ProgressStyle…"
      ]
     },
     "metadata": {},
     "output_type": "display_data"
    },
    {
     "data": {
      "application/vnd.jupyter.widget-view+json": {
       "model_id": "",
       "version_major": 2,
       "version_minor": 0
      },
      "text/plain": [
       "HBox(children=(FloatProgress(value=0.0, description='Validating', layout=Layout(flex='2'), style=ProgressStyle…"
      ]
     },
     "metadata": {},
     "output_type": "display_data"
    },
    {
     "data": {
      "application/vnd.jupyter.widget-view+json": {
       "model_id": "",
       "version_major": 2,
       "version_minor": 0
      },
      "text/plain": [
       "HBox(children=(FloatProgress(value=0.0, description='Validating', layout=Layout(flex='2'), style=ProgressStyle…"
      ]
     },
     "metadata": {},
     "output_type": "display_data"
    },
    {
     "data": {
      "application/vnd.jupyter.widget-view+json": {
       "model_id": "",
       "version_major": 2,
       "version_minor": 0
      },
      "text/plain": [
       "HBox(children=(FloatProgress(value=0.0, description='Validating', layout=Layout(flex='2'), style=ProgressStyle…"
      ]
     },
     "metadata": {},
     "output_type": "display_data"
    },
    {
     "data": {
      "application/vnd.jupyter.widget-view+json": {
       "model_id": "",
       "version_major": 2,
       "version_minor": 0
      },
      "text/plain": [
       "HBox(children=(FloatProgress(value=0.0, description='Validating', layout=Layout(flex='2'), style=ProgressStyle…"
      ]
     },
     "metadata": {},
     "output_type": "display_data"
    },
    {
     "data": {
      "application/vnd.jupyter.widget-view+json": {
       "model_id": "",
       "version_major": 2,
       "version_minor": 0
      },
      "text/plain": [
       "HBox(children=(FloatProgress(value=0.0, description='Validating', layout=Layout(flex='2'), style=ProgressStyle…"
      ]
     },
     "metadata": {},
     "output_type": "display_data"
    },
    {
     "data": {
      "application/vnd.jupyter.widget-view+json": {
       "model_id": "",
       "version_major": 2,
       "version_minor": 0
      },
      "text/plain": [
       "HBox(children=(FloatProgress(value=0.0, description='Validating', layout=Layout(flex='2'), style=ProgressStyle…"
      ]
     },
     "metadata": {},
     "output_type": "display_data"
    },
    {
     "data": {
      "application/vnd.jupyter.widget-view+json": {
       "model_id": "",
       "version_major": 2,
       "version_minor": 0
      },
      "text/plain": [
       "HBox(children=(FloatProgress(value=0.0, description='Validating', layout=Layout(flex='2'), style=ProgressStyle…"
      ]
     },
     "metadata": {},
     "output_type": "display_data"
    },
    {
     "data": {
      "application/vnd.jupyter.widget-view+json": {
       "model_id": "",
       "version_major": 2,
       "version_minor": 0
      },
      "text/plain": [
       "HBox(children=(FloatProgress(value=0.0, description='Validating', layout=Layout(flex='2'), style=ProgressStyle…"
      ]
     },
     "metadata": {},
     "output_type": "display_data"
    },
    {
     "name": "stderr",
     "output_type": "stream",
     "text": [
      "INFO:lightning:Detected KeyboardInterrupt, attempting graceful shutdown...\n"
     ]
    },
    {
     "name": "stdout",
     "output_type": "stream",
     "text": [
      "\n"
     ]
    },
    {
     "data": {
      "text/plain": [
       "1"
      ]
     },
     "execution_count": 4,
     "metadata": {},
     "output_type": "execute_result"
    }
   ],
   "source": [
    "params = dict(dataset='MNIST',\n",
    "              width=28,\n",
    "              height=28,\n",
    "              n_channels=1,\n",
    "              n_hidden_units=3,\n",
    "              n_layers=4,\n",
    "              n_unconstrained=2)\n",
    "specs = Namespace(**params)\n",
    "model = Model(specs.dataset, specs.width, specs.height, specs.n_channels,\n",
    "              specs.n_hidden_units, specs.n_layers, specs.n_unconstrained)\n",
    "checkpoint_callback = ModelCheckpoint(filepath='src/models/log/')\n",
    "logger = TensorBoardLogger(\"src/models/log/tb_logs\", name=\"spatial_vae_report\")\n",
    "trainer = pl.Trainer(\n",
    "    train_percent_check=0.05,\n",
    "    max_epochs=100,\n",
    "    checkpoint_callback=checkpoint_callback,\n",
    "    logger=logger)  # pt.trainer(gpus=1) in order to use GPU instead of CPU\n",
    "trainer.fit(model)"
   ]
  },
  {
   "cell_type": "markdown",
   "metadata": {},
   "source": [
    "## Loading trained model for inference"
   ]
  },
  {
   "cell_type": "code",
   "execution_count": 7,
   "metadata": {},
   "outputs": [
    {
     "data": {
      "image/png": "[encoded data removed]",
      "text/plain": [
       "<Figure size 432x288 with 1 Axes>"
      ]
     },
     "metadata": {
      "needs_background": "light"
     },
     "output_type": "display_data"
    }
   ],
   "source": [
    "# Predicting on new random data\n",
    "model = Model.load_from_checkpoint(\"src/models/log/_ckpt_epoch_8.ckpt\",\n",
    "                                   **params)\n",
    "#mnist_val = torch.randn(1, 28, 28)\n",
    "transform = torchvision.transforms.Compose([torchvision.transforms.ToTensor()])\n",
    "mnist_val = torchvision.datasets.MNIST('src/data/mnist/',\n",
    "                                       train=False,\n",
    "                                       download=True,\n",
    "                                       transform=transform)\n",
    "# print('\\n'.join([''.join(['{:4}'.format(item) for item in row])\n",
    "#       for row in mnist_val.data[0]\n",
    "#                 ]))\n",
    "plt.imshow(mnist_val.data[0].numpy(), interpolation='nearest')\n",
    "plt.show()"
   ]
  },
  {
   "cell_type": "code",
   "execution_count": 8,
   "metadata": {},
   "outputs": [
    {
     "data": {
      "image/png": "[encoded data removed]",
      "text/plain": [
       "<Figure size 432x288 with 1 Axes>"
      ]
     },
     "metadata": {
      "needs_background": "light"
     },
     "output_type": "display_data"
    }
   ],
   "source": [
    "# The model has been trained for 10 epochs on just 5% of the training data since I was running this example\n",
    "# on my local machine CPU (therefore this prediction can't be considered demonstrative of the model\n",
    "# full potential)\n",
    "out, _, _ = model(mnist_val[0][0])\n",
    "plt.imshow(out[0][0].detach().numpy(), interpolation='nearest')\n",
    "plt.show()"
   ]
  },
  {
   "cell_type": "markdown",
   "metadata": {},
   "source": [
    "The same procedure can then be applied to any of the other 3 datasets: MNIST_Rotated, MNIST_Translated, Galaxy_Zoo (when using Galaxy_Zoo, make sure to used the right image sizes and number of channels as shown below). "
   ]
  },
  {
   "cell_type": "code",
   "execution_count": null,
   "metadata": {},
   "outputs": [],
   "source": [
    "# params = dict(dataset ='Galaxy_Zoo',\n",
    "#               width=64,\n",
    "#               height=64,\n",
    "#               n_channels=3,\n",
    "#               n_hidden_units=3,\n",
    "#               n_layers=4,\n",
    "#               n_unconstrained=2)\n",
    "# specs = Namespace(**params)\n",
    "# model = Model(specs.dataset, specs.width, specs.height, specs.n_channels,\n",
    "#               specs.n_hidden_units, specs.n_layers, specs.n_unconstrained)\n",
    "# checkpoint_callback = ModelCheckpoint(filepath='src/models/log/')\n",
    "# logger = TensorBoardLogger(\"src/models/log/tb_logs\", name=\"spatial_vae_report\")\n",
    "# trainer = pl.Trainer(train_percent_check=0.05, max_epochs=100,\n",
    "#                      checkpoint_callback=checkpoint_callback,\n",
    "#                      logger=logger)\n",
    "# # pt.trainer(gpus=1) in order to use GPU instead of CPU\n",
    "# trainer.fit(model)"
   ]
  }
 ],
 "metadata": {
  "kernelspec": {
   "display_name": "Python 3",
   "language": "python",
   "name": "python3"
  },
  "language_info": {
   "codemirror_mode": {
    "name": "ipython",
    "version": 3
   },
   "file_extension": ".py",
   "mimetype": "text/x-python",
   "name": "python",
   "nbconvert_exporter": "python",
   "pygments_lexer": "ipython3",
   "version": "3.7.3"
  }
 },
 "nbformat": 4,
 "nbformat_minor": 4
}
